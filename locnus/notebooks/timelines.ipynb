{
 "cells": [
  {
   "cell_type": "code",
   "execution_count": 1,
   "id": "c350e11b-60ae-4e0b-bc81-931fe648c24c",
   "metadata": {
    "tags": []
   },
   "outputs": [],
   "source": [
    "from mastodon import Mastodon"
   ]
  },
  {
   "cell_type": "markdown",
   "id": "68b227fb-ea21-40e4-b139-9b34e7a2a2e1",
   "metadata": {},
   "source": [
    "## Get Metadata from Django"
   ]
  },
  {
   "cell_type": "code",
   "execution_count": 2,
   "id": "b7d0b929-beb8-4c7f-8568-7cb875602cdf",
   "metadata": {
    "tags": []
   },
   "outputs": [],
   "source": [
    "client = Client.objects.get(api_base_url=\"https://fedi.wersdoerfer.de\")\n",
    "login = Login.objects.get(username=\"jochen-fediverse@wersdoerfer.de\")"
   ]
  },
  {
   "cell_type": "markdown",
   "id": "2d2a0265-1594-4ba7-9668-406e7ed4ef59",
   "metadata": {},
   "source": [
    "## Create Mastodon Client"
   ]
  },
  {
   "cell_type": "markdown",
   "id": "72cdf106-e9ed-459a-a852-83a0d37e06ac",
   "metadata": {},
   "source": [
    "### Public Timeline Only"
   ]
  },
  {
   "cell_type": "code",
   "execution_count": 4,
   "id": "e060c121-b1c8-46ca-b85d-199503c47051",
   "metadata": {
    "tags": []
   },
   "outputs": [],
   "source": [
    "mastodon = Mastodon(api_base_url=client.api_base_url)\n",
    "public = mastodon.timeline(\"public\")"
   ]
  },
  {
   "cell_type": "code",
   "execution_count": 6,
   "id": "01d58a84-ece6-4ae5-80fe-8f81646bb323",
   "metadata": {
    "tags": []
   },
   "outputs": [
    {
     "data": {
      "text/plain": [
       "110322182157473908"
      ]
     },
     "execution_count": 6,
     "metadata": {},
     "output_type": "execute_result"
    }
   ],
   "source": [
    "public[0][\"id\"]"
   ]
  },
  {
   "cell_type": "markdown",
   "id": "f5d5942b-b19f-4c1e-9237-3b95bcdd61ff",
   "metadata": {},
   "source": [
    "### Personal Timeline"
   ]
  },
  {
   "cell_type": "code",
   "execution_count": 8,
   "id": "32c79b03-e5dd-45e3-acac-b377ef368115",
   "metadata": {
    "tags": []
   },
   "outputs": [],
   "source": [
    "mastodon = Mastodon(api_base_url=client.api_base_url, client_id=client.remote_id, client_secret=client.secret)\n",
    "mastodon.access_token = login.access_token\n",
    "personal = mastodon.timeline()"
   ]
  },
  {
   "cell_type": "code",
   "execution_count": 9,
   "id": "bb579ee5-963d-4d34-9ba7-faabc209e1b4",
   "metadata": {
    "tags": []
   },
   "outputs": [
    {
     "data": {
      "text/plain": [
       "110322188951076675"
      ]
     },
     "execution_count": 9,
     "metadata": {},
     "output_type": "execute_result"
    }
   ],
   "source": [
    "personal[0][\"id\"]"
   ]
  }
 ],
 "metadata": {
  "kernelspec": {
   "display_name": "Django Kernel",
   "language": "python",
   "name": "django_extensions"
  },
  "language_info": {
   "codemirror_mode": {
    "name": "ipython",
    "version": 3
   },
   "file_extension": ".py",
   "mimetype": "text/x-python",
   "name": "python",
   "nbconvert_exporter": "python",
   "pygments_lexer": "ipython3",
   "version": "3.11.3"
  }
 },
 "nbformat": 4,
 "nbformat_minor": 5
}
