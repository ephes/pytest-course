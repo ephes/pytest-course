{
 "cells": [
  {
   "cell_type": "code",
   "execution_count": 1,
   "id": "c350e11b-60ae-4e0b-bc81-931fe648c24c",
   "metadata": {
    "tags": []
   },
   "outputs": [],
   "source": [
    "from mastodon import Mastodon"
   ]
  },
  {
   "cell_type": "markdown",
   "id": "68b227fb-ea21-40e4-b139-9b34e7a2a2e1",
   "metadata": {},
   "source": [
    "## Get Metadata from Django"
   ]
  },
  {
   "cell_type": "code",
   "execution_count": 2,
   "id": "b7d0b929-beb8-4c7f-8568-7cb875602cdf",
   "metadata": {
    "tags": []
   },
   "outputs": [],
   "source": [
    "server = Server.objects.get(api_base_url=\"https://fedi.wersdoerfer.de\")\n",
    "account = Account.objects.get(username=\"jochen-fediverse@wersdoerfer.de\")"
   ]
  },
  {
   "cell_type": "markdown",
   "id": "2d2a0265-1594-4ba7-9668-406e7ed4ef59",
   "metadata": {},
   "source": [
    "## Create Mastodon Client"
   ]
  },
  {
   "cell_type": "markdown",
   "id": "72cdf106-e9ed-459a-a852-83a0d37e06ac",
   "metadata": {},
   "source": [
    "### Public Timeline Only"
   ]
  },
  {
   "cell_type": "code",
   "execution_count": 3,
   "id": "e060c121-b1c8-46ca-b85d-199503c47051",
   "metadata": {
    "tags": []
   },
   "outputs": [],
   "source": [
    "mastodon = Mastodon(api_base_url=server.api_base_url)\n",
    "public = mastodon.timeline(\"public\")"
   ]
  },
  {
   "cell_type": "code",
   "execution_count": 4,
   "id": "01d58a84-ece6-4ae5-80fe-8f81646bb323",
   "metadata": {
    "tags": []
   },
   "outputs": [
    {
     "data": {
      "text/plain": [
       "110333284993557627"
      ]
     },
     "execution_count": 4,
     "metadata": {},
     "output_type": "execute_result"
    }
   ],
   "source": [
    "public[0][\"id\"]"
   ]
  },
  {
   "cell_type": "code",
   "execution_count": 5,
   "id": "580c8903-6fdd-4e9b-a6ca-ee5bc3621ba2",
   "metadata": {
    "tags": []
   },
   "outputs": [
    {
     "data": {
      "text/plain": [
       "{'id': 110333284993557627,\n",
       " 'created_at': datetime.datetime(2023, 5, 8, 13, 25, 21, tzinfo=tzlocal()),\n",
       " 'in_reply_to_id': None,\n",
       " 'in_reply_to_account_id': None,\n",
       " 'sensitive': False,\n",
       " 'spoiler_text': '',\n",
       " 'visibility': 'public',\n",
       " 'language': 'en',\n",
       " 'uri': 'https://mastodon.social/users/hugovk/statuses/110333284950431440',\n",
       " 'url': 'https://mastodon.social/@hugovk/110333284950431440',\n",
       " 'replies_count': 1,\n",
       " 'reblogs_count': 0,\n",
       " 'favourites_count': 0,\n",
       " 'edited_at': None,\n",
       " 'content': '<p>The first <a href=\"https://mastodon.social/tags/Python\" class=\"mention hashtag\" rel=\"nofollow noopener noreferrer\" target=\"_blank\">#<span>Python</span></a> 3.12 <a href=\"https://mastodon.social/tags/beta\" class=\"mention hashtag\" rel=\"nofollow noopener noreferrer\" target=\"_blank\">#<span>beta</span></a> has been postponed for a couple of weeks because there\\'s so many exciting things still being worked on (PEPs 684, 687, 688, 695, 697 at least) and still being decided on by the steering council (PEPs 649, 702 and 709).</p><p>Now set for Monday 22nd May:</p><p><a href=\"https://discuss.python.org/t/postponing-3-12-beta-1-feature-freeze/26406/11?u=hugovk\" rel=\"nofollow noopener noreferrer\" target=\"_blank\"><span class=\"invisible\">https://</span><span class=\"ellipsis\">discuss.python.org/t/postponin</span><span class=\"invisible\">g-3-12-beta-1-feature-freeze/26406/11?u=hugovk</span></a></p><p>All other release dates remain as planned:</p><p><a href=\"https://peps.python.org/pep-0693/\" rel=\"nofollow noopener noreferrer\" target=\"_blank\"><span class=\"invisible\">https://</span><span class=\"\">peps.python.org/pep-0693/</span><span class=\"invisible\"></span></a></p><p>PS <a href=\"https://github.com/hugovk/pepotron\" rel=\"nofollow noopener noreferrer\" target=\"_blank\"><span class=\"invisible\">https://</span><span class=\"\">github.com/hugovk/pepotron</span><span class=\"invisible\"></span></a> is my CLI for PEPs! For example: <br>pip install pepotron &amp;&amp; pep 3.12</p>',\n",
       " 'reblog': None,\n",
       " 'account': {'id': 109389926557804380,\n",
       "  'username': 'hugovk',\n",
       "  'acct': 'hugovk@mastodon.social',\n",
       "  'display_name': 'hugovk',\n",
       "  'locked': False,\n",
       "  'bot': False,\n",
       "  'discoverable': True,\n",
       "  'group': False,\n",
       "  'created_at': datetime.datetime(2018, 8, 11, 0, 0, tzinfo=tzlocal()),\n",
       "  'note': '<p>Python core developer, PSF Fellow, open-source maintainer, PEP editor, NaNoGenMo organiser, winter bicycler</p>',\n",
       "  'url': 'https://mastodon.social/@hugovk',\n",
       "  'avatar': 'https://fedi.wersdoerfer.de/system/cache/accounts/avatars/109/389/926/557/804/380/original/a68db258ed99ed5b.jpg',\n",
       "  'avatar_static': 'https://fedi.wersdoerfer.de/system/cache/accounts/avatars/109/389/926/557/804/380/original/a68db258ed99ed5b.jpg',\n",
       "  'header': 'https://fedi.wersdoerfer.de/system/cache/accounts/headers/109/389/926/557/804/380/original/7d2d8e69046ae31e.jpg',\n",
       "  'header_static': 'https://fedi.wersdoerfer.de/system/cache/accounts/headers/109/389/926/557/804/380/original/7d2d8e69046ae31e.jpg',\n",
       "  'followers_count': 503,\n",
       "  'following_count': 276,\n",
       "  'statuses_count': 670,\n",
       "  'last_status_at': datetime.datetime(2023, 5, 8, 0, 0),\n",
       "  'emojis': [],\n",
       "  'fields': [{'name': 'GitHub',\n",
       "    'value': '<a href=\"https://github.com/hugovk\" rel=\"nofollow noopener noreferrer\" target=\"_blank\"><span class=\"invisible\">https://</span><span class=\"\">github.com/hugovk</span><span class=\"invisible\"></span></a>',\n",
       "    'verified_at': '2023-04-19T13:36:17.574+00:00'}]},\n",
       " 'media_attachments': [],\n",
       " 'mentions': [],\n",
       " 'tags': [{'name': 'python', 'url': 'https://fedi.wersdoerfer.de/tags/python'},\n",
       "  {'name': 'beta', 'url': 'https://fedi.wersdoerfer.de/tags/beta'}],\n",
       " 'emojis': [],\n",
       " 'card': {'url': 'https://discuss.python.org/t/postponing-3-12-beta-1-feature-freeze/26406',\n",
       "  'title': 'Postponing 3.12 beta 1 / feature freeze',\n",
       "  'description': 'Since there isn’t a lot of objection, I’m postponing the release until May 22, but please use this only for features that are already scheduled for 3.12 (and bugfixes).',\n",
       "  'type': 'link',\n",
       "  'author_name': '',\n",
       "  'author_url': '',\n",
       "  'provider_name': 'Discussions on Python.org',\n",
       "  'provider_url': '',\n",
       "  'html': '',\n",
       "  'width': 400,\n",
       "  'height': 400,\n",
       "  'image': 'https://fedi.wersdoerfer.de/system/cache/preview_cards/images/000/054/997/original/6cfabfee7b56f308.png',\n",
       "  'embed_url': '',\n",
       "  'blurhash': 'UvM6qdj@0;a}oJa#a#oJ0;fQNLa#fka#a#j?'},\n",
       " 'poll': None}"
      ]
     },
     "execution_count": 5,
     "metadata": {},
     "output_type": "execute_result"
    }
   ],
   "source": [
    "public[0]"
   ]
  },
  {
   "cell_type": "markdown",
   "id": "f5d5942b-b19f-4c1e-9237-3b95bcdd61ff",
   "metadata": {},
   "source": [
    "### Personal Timeline"
   ]
  },
  {
   "cell_type": "code",
   "execution_count": 8,
   "id": "32c79b03-e5dd-45e3-acac-b377ef368115",
   "metadata": {
    "tags": []
   },
   "outputs": [],
   "source": [
    "mastodon = Mastodon(api_base_url=client.api_base_url, client_id=client.remote_id, client_secret=client.secret)\n",
    "mastodon.access_token = account.access_token\n",
    "personal = mastodon.timeline()"
   ]
  },
  {
   "cell_type": "code",
   "execution_count": 9,
   "id": "bb579ee5-963d-4d34-9ba7-faabc209e1b4",
   "metadata": {
    "tags": []
   },
   "outputs": [
    {
     "data": {
      "text/plain": [
       "110322188951076675"
      ]
     },
     "execution_count": 9,
     "metadata": {},
     "output_type": "execute_result"
    }
   ],
   "source": [
    "personal[0][\"id\"]"
   ]
  }
 ],
 "metadata": {
  "kernelspec": {
   "display_name": "Django Kernel",
   "language": "python",
   "name": "django_extensions"
  },
  "language_info": {
   "codemirror_mode": {
    "name": "ipython",
    "version": 3
   },
   "file_extension": ".py",
   "mimetype": "text/x-python",
   "name": "python",
   "nbconvert_exporter": "python",
   "pygments_lexer": "ipython3",
   "version": "3.11.3"
  }
 },
 "nbformat": 4,
 "nbformat_minor": 5
}
