{
 "cells": [
  {
   "cell_type": "code",
   "execution_count": 9,
   "id": "c350e11b-60ae-4e0b-bc81-931fe648c24c",
   "metadata": {
    "tags": []
   },
   "outputs": [],
   "source": [
    "from mastodon import Mastodon"
   ]
  },
  {
   "cell_type": "markdown",
   "id": "68b227fb-ea21-40e4-b139-9b34e7a2a2e1",
   "metadata": {},
   "source": [
    "## Get Metadata from Django"
   ]
  },
  {
   "cell_type": "code",
   "execution_count": 13,
   "id": "b7d0b929-beb8-4c7f-8568-7cb875602cdf",
   "metadata": {
    "tags": []
   },
   "outputs": [],
   "source": [
    "server = Server.objects.get(api_base_url=\"https://fedi.wersdoerfer.de\")\n",
    "account = Account.objects.get(username=\"jochen-fediverse@wersdoerfer.de\")"
   ]
  },
  {
   "cell_type": "markdown",
   "id": "2d2a0265-1594-4ba7-9668-406e7ed4ef59",
   "metadata": {},
   "source": [
    "## Create Mastodon Client"
   ]
  },
  {
   "cell_type": "markdown",
   "id": "72cdf106-e9ed-459a-a852-83a0d37e06ac",
   "metadata": {},
   "source": [
    "### Public Timeline Only"
   ]
  },
  {
   "cell_type": "code",
   "execution_count": 16,
   "id": "e060c121-b1c8-46ca-b85d-199503c47051",
   "metadata": {
    "tags": []
   },
   "outputs": [],
   "source": [
    "mastodon = Mastodon(api_base_url=server.api_base_url)\n",
    "public = mastodon.timeline_public()"
   ]
  },
  {
   "cell_type": "code",
   "execution_count": 17,
   "id": "01d58a84-ece6-4ae5-80fe-8f81646bb323",
   "metadata": {
    "tags": []
   },
   "outputs": [
    {
     "data": {
      "text/plain": [
       "110333511198944785"
      ]
     },
     "execution_count": 17,
     "metadata": {},
     "output_type": "execute_result"
    }
   ],
   "source": [
    "public[0][\"id\"]"
   ]
  },
  {
   "cell_type": "code",
   "execution_count": 18,
   "id": "580c8903-6fdd-4e9b-a6ca-ee5bc3621ba2",
   "metadata": {
    "tags": []
   },
   "outputs": [
    {
     "data": {
      "text/plain": [
       "{'id': 110333511198944785,\n",
       " 'created_at': datetime.datetime(2023, 5, 8, 14, 22, 52, tzinfo=tzlocal()),\n",
       " 'in_reply_to_id': None,\n",
       " 'in_reply_to_account_id': None,\n",
       " 'sensitive': False,\n",
       " 'spoiler_text': '',\n",
       " 'visibility': 'public',\n",
       " 'language': 'de',\n",
       " 'uri': 'https://chaos.social/users/Zwiebeltuete/statuses/110333511119899774',\n",
       " 'url': 'https://chaos.social/@Zwiebeltuete/110333511119899774',\n",
       " 'replies_count': 0,\n",
       " 'reblogs_count': 0,\n",
       " 'favourites_count': 0,\n",
       " 'edited_at': None,\n",
       " 'content': '<p>Wenn ich mit dem <a href=\"https://chaos.social/tags/Deutschlandticket\" class=\"mention hashtag\" rel=\"nofollow noopener noreferrer\" target=\"_blank\">#<span>Deutschlandticket</span></a> unterwegs bin... <a href=\"https://chaos.social/tags/49EuroTicket\" class=\"mention hashtag\" rel=\"nofollow noopener noreferrer\" target=\"_blank\">#<span>49EuroTicket</span></a> <br><a href=\"https://youtu.be/4AJF-Sooono\" rel=\"nofollow noopener noreferrer\" target=\"_blank\"><span class=\"invisible\">https://</span><span class=\"\">youtu.be/4AJF-Sooono</span><span class=\"invisible\"></span></a></p>',\n",
       " 'reblog': None,\n",
       " 'account': {'id': 109398983994510519,\n",
       "  'username': 'Zwiebeltuete',\n",
       "  'acct': 'Zwiebeltuete@chaos.social',\n",
       "  'display_name': 'HG ✅',\n",
       "  'locked': False,\n",
       "  'bot': False,\n",
       "  'discoverable': True,\n",
       "  'group': False,\n",
       "  'created_at': datetime.datetime(2018, 5, 11, 0, 0, tzinfo=tzlocal()),\n",
       "  'note': '<p>* Rechtsanwalt * Kulturschaffender (Bacon-Zahl: 3) * Kabarettautor * Wanderer * Radfahrer * Usenet * dana-Moderator a.D. * C3 * Digital Aborigine *  Cyber seit CP/M * Fotografie seit Canon AE-1 * Mein Nickname ist bescheuert. Mit Absicht. * Ich war nie in der Nähe einer PDP11 *</p>',\n",
       "  'url': 'https://chaos.social/@Zwiebeltuete',\n",
       "  'avatar': 'https://fedi.wersdoerfer.de/system/cache/accounts/avatars/109/398/983/994/510/519/original/7bc0afbbca4166f6.png',\n",
       "  'avatar_static': 'https://fedi.wersdoerfer.de/system/cache/accounts/avatars/109/398/983/994/510/519/original/7bc0afbbca4166f6.png',\n",
       "  'header': 'https://fedi.wersdoerfer.de/headers/original/missing.png',\n",
       "  'header_static': 'https://fedi.wersdoerfer.de/headers/original/missing.png',\n",
       "  'followers_count': 469,\n",
       "  'following_count': 456,\n",
       "  'statuses_count': 1579,\n",
       "  'last_status_at': datetime.datetime(2023, 5, 8, 0, 0),\n",
       "  'emojis': [],\n",
       "  'fields': [{'name': 'Birdside:',\n",
       "    'value': 'Zwiebeltuete (inaktiv)',\n",
       "    'verified_at': None},\n",
       "   {'name': 'Based in:', 'value': 'Heilbronn, Germany', 'verified_at': None},\n",
       "   {'name': 'Languages:',\n",
       "    'value': 'Deutsch/English/Schwäbisch',\n",
       "    'verified_at': None}]},\n",
       " 'media_attachments': [],\n",
       " 'mentions': [],\n",
       " 'tags': [{'name': 'deutschlandticket',\n",
       "   'url': 'https://fedi.wersdoerfer.de/tags/deutschlandticket'},\n",
       "  {'name': '49euroticket',\n",
       "   'url': 'https://fedi.wersdoerfer.de/tags/49euroticket'}],\n",
       " 'emojis': [],\n",
       " 'card': {'url': 'https://www.youtube.com/watch?v=4AJF-Sooono&feature=youtu.be',\n",
       "  'title': 'Klimbim - Django bezahlt nicht',\n",
       "  'description': '',\n",
       "  'type': 'video',\n",
       "  'author_name': 'Loek van Swelm',\n",
       "  'author_url': 'https://www.youtube.com/@LoekvanSwelm',\n",
       "  'provider_name': 'YouTube',\n",
       "  'provider_url': 'https://www.youtube.com/',\n",
       "  'html': '<iframe width=\"200\" height=\"150\" src=\"https://www.youtube.com/embed/4AJF-Sooono?feature=oembed\" frameborder=\"0\" allowfullscreen=\"\" title=\"Klimbim - Django bezahlt nicht\"></iframe>',\n",
       "  'width': 200,\n",
       "  'height': 150,\n",
       "  'image': 'https://fedi.wersdoerfer.de/system/cache/preview_cards/images/000/055/011/original/85eea53dec8af409.jpg',\n",
       "  'embed_url': '',\n",
       "  'blurhash': 'USGutENF~q?b-;RjRkt700t7D%IUMxWCRjae'},\n",
       " 'poll': None}"
      ]
     },
     "execution_count": 18,
     "metadata": {},
     "output_type": "execute_result"
    }
   ],
   "source": [
    "public[0]"
   ]
  },
  {
   "cell_type": "markdown",
   "id": "f5d5942b-b19f-4c1e-9237-3b95bcdd61ff",
   "metadata": {},
   "source": [
    "### Personal Timeline"
   ]
  },
  {
   "cell_type": "code",
   "execution_count": 8,
   "id": "32c79b03-e5dd-45e3-acac-b377ef368115",
   "metadata": {
    "tags": []
   },
   "outputs": [],
   "source": [
    "mastodon = Mastodon(api_base_url=client.api_base_url, client_id=client.remote_id, client_secret=client.secret)\n",
    "mastodon.access_token = account.access_token\n",
    "personal = mastodon.timeline()"
   ]
  },
  {
   "cell_type": "code",
   "execution_count": 9,
   "id": "bb579ee5-963d-4d34-9ba7-faabc209e1b4",
   "metadata": {
    "tags": []
   },
   "outputs": [
    {
     "data": {
      "text/plain": [
       "110322188951076675"
      ]
     },
     "execution_count": 9,
     "metadata": {},
     "output_type": "execute_result"
    }
   ],
   "source": [
    "personal[0][\"id\"]"
   ]
  },
  {
   "cell_type": "code",
   "execution_count": 7,
   "id": "e02ff3c6-bce3-4fd5-ba05-b7cfe6e1a9cd",
   "metadata": {
    "tags": []
   },
   "outputs": [],
   "source": [
    "local_timeline = mastodon.timeline_local()"
   ]
  },
  {
   "cell_type": "code",
   "execution_count": 8,
   "id": "906f6a6e-3730-465e-956e-98abed53e724",
   "metadata": {
    "tags": []
   },
   "outputs": [
    {
     "data": {
      "text/plain": [
       "{'id': 110292099867758403,\n",
       " 'created_at': datetime.datetime(2023, 5, 1, 6, 51, 27, 144000, tzinfo=tzlocal()),\n",
       " 'in_reply_to_id': None,\n",
       " 'in_reply_to_account_id': None,\n",
       " 'sensitive': False,\n",
       " 'spoiler_text': '',\n",
       " 'visibility': 'public',\n",
       " 'language': 'en',\n",
       " 'uri': 'https://fedi.wersdoerfer.de/users/jochen/statuses/110292099867758403',\n",
       " 'url': 'https://fedi.wersdoerfer.de/@jochen/110292099867758403',\n",
       " 'replies_count': 0,\n",
       " 'reblogs_count': 0,\n",
       " 'favourites_count': 2,\n",
       " 'edited_at': None,\n",
       " 'content': '<p>Wagtail 5, Vue.js theme, meetups, and using LLMs  - published my <a href=\"https://fedi.wersdoerfer.de/tags/weeknotes\" class=\"mention hashtag\" rel=\"tag\">#<span>weeknotes</span></a> for last week: <a href=\"https://wersdoerfer.de/blogs/ephes_blog/weeknotes-2023-05-01/\" target=\"_blank\" rel=\"nofollow noopener noreferrer\"><span class=\"invisible\">https://</span><span class=\"ellipsis\">wersdoerfer.de/blogs/ephes_blo</span><span class=\"invisible\">g/weeknotes-2023-05-01/</span></a><br /><a href=\"https://fedi.wersdoerfer.de/tags/wagtailCMS\" class=\"mention hashtag\" rel=\"tag\">#<span>wagtailCMS</span></a> <a href=\"https://fedi.wersdoerfer.de/tags/django\" class=\"mention hashtag\" rel=\"tag\">#<span>django</span></a> <a href=\"https://fedi.wersdoerfer.de/tags/vue\" class=\"mention hashtag\" rel=\"tag\">#<span>vue</span></a></p>',\n",
       " 'reblog': None,\n",
       " 'application': None,\n",
       " 'account': {'id': 109389521760027074,\n",
       "  'username': 'jochen',\n",
       "  'acct': 'jochen',\n",
       "  'display_name': 'Jochen Wersdörfer',\n",
       "  'locked': False,\n",
       "  'bot': False,\n",
       "  'discoverable': False,\n",
       "  'group': False,\n",
       "  'created_at': datetime.datetime(2022, 11, 22, 0, 0, tzinfo=tzlocal()),\n",
       "  'note': '<p>Freelance Python Developer from Düsseldorf. Podcasts / Ukulele / Cooking.</p>',\n",
       "  'url': 'https://fedi.wersdoerfer.de/@jochen',\n",
       "  'avatar': 'https://fedi.wersdoerfer.de/system/accounts/avatars/109/389/521/760/027/074/original/14c4a14dec77bff1.jpeg',\n",
       "  'avatar_static': 'https://fedi.wersdoerfer.de/system/accounts/avatars/109/389/521/760/027/074/original/14c4a14dec77bff1.jpeg',\n",
       "  'header': 'https://fedi.wersdoerfer.de/system/accounts/headers/109/389/521/760/027/074/original/43c0c18591141108.jpeg',\n",
       "  'header_static': 'https://fedi.wersdoerfer.de/system/accounts/headers/109/389/521/760/027/074/original/43c0c18591141108.jpeg',\n",
       "  'followers_count': 155,\n",
       "  'following_count': 367,\n",
       "  'statuses_count': 288,\n",
       "  'last_status_at': datetime.datetime(2023, 5, 7, 0, 0),\n",
       "  'noindex': False,\n",
       "  'emojis': [],\n",
       "  'roles': [{'id': 3, 'name': 'Owner', 'color': ''}],\n",
       "  'fields': [{'name': 'Blog',\n",
       "    'value': '<a href=\"https://wersdoerfer.de/blogs/ephes_blog/\" target=\"_blank\" rel=\"nofollow noopener noreferrer me\"><span class=\"invisible\">https://</span><span class=\"ellipsis\">wersdoerfer.de/blogs/ephes_blo</span><span class=\"invisible\">g/</span></a>',\n",
       "    'verified_at': '2022-11-23T06:36:07.912+00:00'},\n",
       "   {'name': 'Podcast',\n",
       "    'value': '<a href=\"https://python-podcast.de/show\" target=\"_blank\" rel=\"nofollow noopener noreferrer me\"><span class=\"invisible\">https://</span><span class=\"\">python-podcast.de/show</span><span class=\"invisible\"></span></a>',\n",
       "    'verified_at': '2022-11-23T06:33:17.236+00:00'},\n",
       "   {'name': 'GitHub',\n",
       "    'value': '<a href=\"https://ephes.github.io\" target=\"_blank\" rel=\"nofollow noopener noreferrer me\"><span class=\"invisible\">https://</span><span class=\"\">ephes.github.io</span><span class=\"invisible\"></span></a>',\n",
       "    'verified_at': '2022-11-25T11:48:25.471+00:00'}]},\n",
       " 'media_attachments': [],\n",
       " 'mentions': [],\n",
       " 'tags': [{'name': 'weeknotes',\n",
       "   'url': 'https://fedi.wersdoerfer.de/tags/weeknotes'},\n",
       "  {'name': 'wagtailcms', 'url': 'https://fedi.wersdoerfer.de/tags/wagtailcms'},\n",
       "  {'name': 'django', 'url': 'https://fedi.wersdoerfer.de/tags/django'},\n",
       "  {'name': 'vue', 'url': 'https://fedi.wersdoerfer.de/tags/vue'}],\n",
       " 'emojis': [],\n",
       " 'card': {'url': 'https://wersdoerfer.de/blogs/ephes_blog/weeknotes-2023-05-01/',\n",
       "  'title': 'Weeknotes 2023-05-01',\n",
       "  'description': '',\n",
       "  'type': 'link',\n",
       "  'author_name': '',\n",
       "  'author_url': '',\n",
       "  'provider_name': '',\n",
       "  'provider_url': '',\n",
       "  'html': '',\n",
       "  'width': 0,\n",
       "  'height': 0,\n",
       "  'image': None,\n",
       "  'embed_url': '',\n",
       "  'blurhash': None},\n",
       " 'poll': None}"
      ]
     },
     "execution_count": 8,
     "metadata": {},
     "output_type": "execute_result"
    }
   ],
   "source": [
    "local_timeline[0]"
   ]
  },
  {
   "cell_type": "code",
   "execution_count": null,
   "id": "eaefda44-ec15-4727-9542-2d36602942a5",
   "metadata": {},
   "outputs": [],
   "source": []
  }
 ],
 "metadata": {
  "kernelspec": {
   "display_name": "Django Kernel",
   "language": "python",
   "name": "django_extensions"
  },
  "language_info": {
   "codemirror_mode": {
    "name": "ipython",
    "version": 3
   },
   "file_extension": ".py",
   "mimetype": "text/x-python",
   "name": "python",
   "nbconvert_exporter": "python",
   "pygments_lexer": "ipython3",
   "version": "3.11.3"
  }
 },
 "nbformat": 4,
 "nbformat_minor": 5
}
