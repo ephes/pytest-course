{
 "cells": [
  {
   "cell_type": "code",
   "execution_count": 6,
   "id": "6e60c8c0-52d4-41f8-a90b-a87f651742a8",
   "metadata": {
    "tags": []
   },
   "outputs": [],
   "source": [
    "from getpass import getpass\n",
    "\n",
    "from mastodon import Mastodon"
   ]
  },
  {
   "cell_type": "code",
   "execution_count": 15,
   "id": "e48b4142-4496-44d4-b620-bce1466fd577",
   "metadata": {
    "tags": []
   },
   "outputs": [
    {
     "name": "stdin",
     "output_type": "stream",
     "text": [
      " ········\n"
     ]
    },
    {
     "name": "stdout",
     "output_type": "stream",
     "text": [
      "<mastodon.Mastodon.Mastodon object at 0x11362a590>\n"
     ]
    }
   ],
   "source": [
    "username = \"jochen-fediverse@wersdoerfer.de\"\n",
    "api_base_url = \"https://fedi.wersdoerfer.de\"\n",
    "password = getpass()\n",
    "\n",
    "client_id, secret = Mastodon.create_app(\"pytooterapp\", api_base_url=api_base_url)\n",
    "mastodon = Mastodon(\n",
    "    client_id=client_id,\n",
    "    client_secret=secret,\n",
    "    api_base_url=api_base_url\n",
    ")\n",
    "print(mastodon)\n",
    "access_token = mastodon.log_in(username, password)"
   ]
  },
  {
   "cell_type": "code",
   "execution_count": 17,
   "id": "4976cd95-01e2-4fd1-aba4-4fb25a3af8b5",
   "metadata": {
    "tags": []
   },
   "outputs": [],
   "source": [
    "#access_token"
   ]
  },
  {
   "cell_type": "code",
   "execution_count": null,
   "id": "c4792dac-857d-4fc1-8182-48f60e72185c",
   "metadata": {},
   "outputs": [],
   "source": []
  }
 ],
 "metadata": {
  "kernelspec": {
   "display_name": "Django Kernel",
   "language": "python",
   "name": "django_extensions"
  },
  "language_info": {
   "codemirror_mode": {
    "name": "ipython",
    "version": 3
   },
   "file_extension": ".py",
   "mimetype": "text/x-python",
   "name": "python",
   "nbconvert_exporter": "python",
   "pygments_lexer": "ipython3",
   "version": "3.11.3"
  }
 },
 "nbformat": 4,
 "nbformat_minor": 5
}
